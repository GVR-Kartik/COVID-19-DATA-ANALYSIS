{
  "nbformat": 4,
  "nbformat_minor": 0,
  "metadata": {
    "colab": {
      "name": "COVID19.ipynb",
      "provenance": []
    },
    "kernelspec": {
      "name": "python3",
      "display_name": "Python 3"
    }
  },
  "cells": [
    {
      "cell_type": "code",
      "metadata": {
        "id": "GBCinIFFt-Cy",
        "colab_type": "code",
        "colab": {
          "base_uri": "https://localhost:8080/",
          "height": 70
        },
        "outputId": "09707db2-32ab-4b1e-8c66-b99bf796bf4b"
      },
      "source": [
        "import pandas as pd\n",
        "import numpy as np\n",
        "import matplotlib.pyplot as plt\n",
        "import seaborn as sns"
      ],
      "execution_count": 1,
      "outputs": [
        {
          "output_type": "stream",
          "text": [
            "/usr/local/lib/python3.6/dist-packages/statsmodels/tools/_testing.py:19: FutureWarning: pandas.util.testing is deprecated. Use the functions in the public API at pandas.testing instead.\n",
            "  import pandas.util.testing as tm\n"
          ],
          "name": "stderr"
        }
      ]
    },
    {
      "cell_type": "markdown",
      "metadata": {
        "id": "mElfW7bjuCFb",
        "colab_type": "text"
      },
      "source": [
        "# New Section"
      ]
    },
    {
      "cell_type": "code",
      "metadata": {
        "id": "u1qWDGH5ucqz",
        "colab_type": "code",
        "colab": {}
      },
      "source": [
        "data=pd.read_csv('/content/covid19_italy_region.csv')"
      ],
      "execution_count": 0,
      "outputs": []
    },
    {
      "cell_type": "code",
      "metadata": {
        "id": "_XWfDP6m0IcI",
        "colab_type": "code",
        "colab": {}
      },
      "source": [
        ""
      ],
      "execution_count": 0,
      "outputs": []
    },
    {
      "cell_type": "code",
      "metadata": {
        "id": "qvxsMdcYunuL",
        "colab_type": "code",
        "outputId": "82af7c5b-39db-489d-a68f-9d8b829caa8b",
        "colab": {
          "base_uri": "https://localhost:8080/",
          "height": 299
        }
      },
      "source": [
        "data.head()"
      ],
      "execution_count": 3,
      "outputs": [
        {
          "output_type": "execute_result",
          "data": {
            "text/html": [
              "<div>\n",
              "<style scoped>\n",
              "    .dataframe tbody tr th:only-of-type {\n",
              "        vertical-align: middle;\n",
              "    }\n",
              "\n",
              "    .dataframe tbody tr th {\n",
              "        vertical-align: top;\n",
              "    }\n",
              "\n",
              "    .dataframe thead th {\n",
              "        text-align: right;\n",
              "    }\n",
              "</style>\n",
              "<table border=\"1\" class=\"dataframe\">\n",
              "  <thead>\n",
              "    <tr style=\"text-align: right;\">\n",
              "      <th></th>\n",
              "      <th>SNo</th>\n",
              "      <th>Date</th>\n",
              "      <th>Country</th>\n",
              "      <th>RegionCode</th>\n",
              "      <th>RegionName</th>\n",
              "      <th>Latitude</th>\n",
              "      <th>Longitude</th>\n",
              "      <th>HospitalizedPatients</th>\n",
              "      <th>IntensiveCarePatients</th>\n",
              "      <th>TotalHospitalizedPatients</th>\n",
              "      <th>HomeConfinement</th>\n",
              "      <th>CurrentPositiveCases</th>\n",
              "      <th>NewPositiveCases</th>\n",
              "      <th>Recovered</th>\n",
              "      <th>Deaths</th>\n",
              "      <th>TotalPositiveCases</th>\n",
              "      <th>TestsPerformed</th>\n",
              "    </tr>\n",
              "  </thead>\n",
              "  <tbody>\n",
              "    <tr>\n",
              "      <th>0</th>\n",
              "      <td>0</td>\n",
              "      <td>2020-02-24T18:00:00</td>\n",
              "      <td>ITA</td>\n",
              "      <td>13</td>\n",
              "      <td>Abruzzo</td>\n",
              "      <td>42.351222</td>\n",
              "      <td>13.398438</td>\n",
              "      <td>0</td>\n",
              "      <td>0</td>\n",
              "      <td>0</td>\n",
              "      <td>0</td>\n",
              "      <td>0</td>\n",
              "      <td>0</td>\n",
              "      <td>0</td>\n",
              "      <td>0</td>\n",
              "      <td>0</td>\n",
              "      <td>5</td>\n",
              "    </tr>\n",
              "    <tr>\n",
              "      <th>1</th>\n",
              "      <td>1</td>\n",
              "      <td>2020-02-24T18:00:00</td>\n",
              "      <td>ITA</td>\n",
              "      <td>17</td>\n",
              "      <td>Basilicata</td>\n",
              "      <td>40.639471</td>\n",
              "      <td>15.805148</td>\n",
              "      <td>0</td>\n",
              "      <td>0</td>\n",
              "      <td>0</td>\n",
              "      <td>0</td>\n",
              "      <td>0</td>\n",
              "      <td>0</td>\n",
              "      <td>0</td>\n",
              "      <td>0</td>\n",
              "      <td>0</td>\n",
              "      <td>0</td>\n",
              "    </tr>\n",
              "    <tr>\n",
              "      <th>2</th>\n",
              "      <td>2</td>\n",
              "      <td>2020-02-24T18:00:00</td>\n",
              "      <td>ITA</td>\n",
              "      <td>4</td>\n",
              "      <td>P.A. Bolzano</td>\n",
              "      <td>46.499335</td>\n",
              "      <td>11.356624</td>\n",
              "      <td>0</td>\n",
              "      <td>0</td>\n",
              "      <td>0</td>\n",
              "      <td>0</td>\n",
              "      <td>0</td>\n",
              "      <td>0</td>\n",
              "      <td>0</td>\n",
              "      <td>0</td>\n",
              "      <td>0</td>\n",
              "      <td>1</td>\n",
              "    </tr>\n",
              "    <tr>\n",
              "      <th>3</th>\n",
              "      <td>3</td>\n",
              "      <td>2020-02-24T18:00:00</td>\n",
              "      <td>ITA</td>\n",
              "      <td>18</td>\n",
              "      <td>Calabria</td>\n",
              "      <td>38.905976</td>\n",
              "      <td>16.594402</td>\n",
              "      <td>0</td>\n",
              "      <td>0</td>\n",
              "      <td>0</td>\n",
              "      <td>0</td>\n",
              "      <td>0</td>\n",
              "      <td>0</td>\n",
              "      <td>0</td>\n",
              "      <td>0</td>\n",
              "      <td>0</td>\n",
              "      <td>1</td>\n",
              "    </tr>\n",
              "    <tr>\n",
              "      <th>4</th>\n",
              "      <td>4</td>\n",
              "      <td>2020-02-24T18:00:00</td>\n",
              "      <td>ITA</td>\n",
              "      <td>15</td>\n",
              "      <td>Campania</td>\n",
              "      <td>40.839566</td>\n",
              "      <td>14.250850</td>\n",
              "      <td>0</td>\n",
              "      <td>0</td>\n",
              "      <td>0</td>\n",
              "      <td>0</td>\n",
              "      <td>0</td>\n",
              "      <td>0</td>\n",
              "      <td>0</td>\n",
              "      <td>0</td>\n",
              "      <td>0</td>\n",
              "      <td>10</td>\n",
              "    </tr>\n",
              "  </tbody>\n",
              "</table>\n",
              "</div>"
            ],
            "text/plain": [
              "   SNo                 Date Country  ...  Deaths TotalPositiveCases  TestsPerformed\n",
              "0    0  2020-02-24T18:00:00     ITA  ...       0                  0               5\n",
              "1    1  2020-02-24T18:00:00     ITA  ...       0                  0               0\n",
              "2    2  2020-02-24T18:00:00     ITA  ...       0                  0               1\n",
              "3    3  2020-02-24T18:00:00     ITA  ...       0                  0               1\n",
              "4    4  2020-02-24T18:00:00     ITA  ...       0                  0              10\n",
              "\n",
              "[5 rows x 17 columns]"
            ]
          },
          "metadata": {
            "tags": []
          },
          "execution_count": 3
        }
      ]
    },
    {
      "cell_type": "code",
      "metadata": {
        "id": "_WsqJxEyuqFM",
        "colab_type": "code",
        "outputId": "6f2cacdf-c107-494a-c6c9-47c5aced8baf",
        "colab": {
          "base_uri": "https://localhost:8080/",
          "height": 118
        }
      },
      "source": [
        "data.columns"
      ],
      "execution_count": 4,
      "outputs": [
        {
          "output_type": "execute_result",
          "data": {
            "text/plain": [
              "Index(['SNo', 'Date', 'Country', 'RegionCode', 'RegionName', 'Latitude',\n",
              "       'Longitude', 'HospitalizedPatients', 'IntensiveCarePatients',\n",
              "       'TotalHospitalizedPatients', 'HomeConfinement', 'CurrentPositiveCases',\n",
              "       'NewPositiveCases', 'Recovered', 'Deaths', 'TotalPositiveCases',\n",
              "       'TestsPerformed'],\n",
              "      dtype='object')"
            ]
          },
          "metadata": {
            "tags": []
          },
          "execution_count": 4
        }
      ]
    },
    {
      "cell_type": "code",
      "metadata": {
        "id": "WyxUMrhPusSz",
        "colab_type": "code",
        "outputId": "11cfdc58-def3-493a-ae37-cd0bd9807fb6",
        "colab": {
          "base_uri": "https://localhost:8080/",
          "height": 304
        }
      },
      "source": [
        "data.describe()"
      ],
      "execution_count": 5,
      "outputs": [
        {
          "output_type": "execute_result",
          "data": {
            "text/html": [
              "<div>\n",
              "<style scoped>\n",
              "    .dataframe tbody tr th:only-of-type {\n",
              "        vertical-align: middle;\n",
              "    }\n",
              "\n",
              "    .dataframe tbody tr th {\n",
              "        vertical-align: top;\n",
              "    }\n",
              "\n",
              "    .dataframe thead th {\n",
              "        text-align: right;\n",
              "    }\n",
              "</style>\n",
              "<table border=\"1\" class=\"dataframe\">\n",
              "  <thead>\n",
              "    <tr style=\"text-align: right;\">\n",
              "      <th></th>\n",
              "      <th>SNo</th>\n",
              "      <th>RegionCode</th>\n",
              "      <th>Latitude</th>\n",
              "      <th>Longitude</th>\n",
              "      <th>HospitalizedPatients</th>\n",
              "      <th>IntensiveCarePatients</th>\n",
              "      <th>TotalHospitalizedPatients</th>\n",
              "      <th>HomeConfinement</th>\n",
              "      <th>CurrentPositiveCases</th>\n",
              "      <th>NewPositiveCases</th>\n",
              "      <th>Recovered</th>\n",
              "      <th>Deaths</th>\n",
              "      <th>TotalPositiveCases</th>\n",
              "      <th>TestsPerformed</th>\n",
              "    </tr>\n",
              "  </thead>\n",
              "  <tbody>\n",
              "    <tr>\n",
              "      <th>count</th>\n",
              "      <td>1113.00000</td>\n",
              "      <td>1113.000000</td>\n",
              "      <td>1113.000000</td>\n",
              "      <td>1113.000000</td>\n",
              "      <td>1113.000000</td>\n",
              "      <td>1113.000000</td>\n",
              "      <td>1113.000000</td>\n",
              "      <td>1113.000000</td>\n",
              "      <td>1113.000000</td>\n",
              "      <td>1113.000000</td>\n",
              "      <td>1113.000000</td>\n",
              "      <td>1113.000000</td>\n",
              "      <td>1113.000000</td>\n",
              "      <td>1113.000000</td>\n",
              "    </tr>\n",
              "    <tr>\n",
              "      <th>mean</th>\n",
              "      <td>556.00000</td>\n",
              "      <td>10.190476</td>\n",
              "      <td>43.046293</td>\n",
              "      <td>12.225955</td>\n",
              "      <td>763.703504</td>\n",
              "      <td>107.523810</td>\n",
              "      <td>871.227314</td>\n",
              "      <td>1355.204852</td>\n",
              "      <td>2226.432165</td>\n",
              "      <td>151.781671</td>\n",
              "      <td>534.781671</td>\n",
              "      <td>361.925427</td>\n",
              "      <td>3123.139263</td>\n",
              "      <td>17353.315364</td>\n",
              "    </tr>\n",
              "    <tr>\n",
              "      <th>std</th>\n",
              "      <td>321.43973</td>\n",
              "      <td>5.797669</td>\n",
              "      <td>2.489900</td>\n",
              "      <td>2.660143</td>\n",
              "      <td>1913.884740</td>\n",
              "      <td>217.669077</td>\n",
              "      <td>2127.373795</td>\n",
              "      <td>2764.823686</td>\n",
              "      <td>4753.325164</td>\n",
              "      <td>317.771993</td>\n",
              "      <td>2044.057913</td>\n",
              "      <td>1309.590387</td>\n",
              "      <td>7939.941536</td>\n",
              "      <td>33793.972235</td>\n",
              "    </tr>\n",
              "    <tr>\n",
              "      <th>min</th>\n",
              "      <td>0.00000</td>\n",
              "      <td>1.000000</td>\n",
              "      <td>38.115697</td>\n",
              "      <td>7.320149</td>\n",
              "      <td>0.000000</td>\n",
              "      <td>0.000000</td>\n",
              "      <td>0.000000</td>\n",
              "      <td>0.000000</td>\n",
              "      <td>0.000000</td>\n",
              "      <td>-17.000000</td>\n",
              "      <td>0.000000</td>\n",
              "      <td>0.000000</td>\n",
              "      <td>0.000000</td>\n",
              "      <td>0.000000</td>\n",
              "    </tr>\n",
              "    <tr>\n",
              "      <th>25%</th>\n",
              "      <td>278.00000</td>\n",
              "      <td>5.000000</td>\n",
              "      <td>41.125596</td>\n",
              "      <td>11.121231</td>\n",
              "      <td>15.000000</td>\n",
              "      <td>3.000000</td>\n",
              "      <td>18.000000</td>\n",
              "      <td>23.000000</td>\n",
              "      <td>46.000000</td>\n",
              "      <td>6.000000</td>\n",
              "      <td>0.000000</td>\n",
              "      <td>0.000000</td>\n",
              "      <td>50.000000</td>\n",
              "      <td>531.000000</td>\n",
              "    </tr>\n",
              "    <tr>\n",
              "      <th>50%</th>\n",
              "      <td>556.00000</td>\n",
              "      <td>10.000000</td>\n",
              "      <td>43.616760</td>\n",
              "      <td>12.388247</td>\n",
              "      <td>130.000000</td>\n",
              "      <td>28.000000</td>\n",
              "      <td>164.000000</td>\n",
              "      <td>331.000000</td>\n",
              "      <td>567.000000</td>\n",
              "      <td>48.000000</td>\n",
              "      <td>20.000000</td>\n",
              "      <td>25.000000</td>\n",
              "      <td>647.000000</td>\n",
              "      <td>4304.000000</td>\n",
              "    </tr>\n",
              "    <tr>\n",
              "      <th>75%</th>\n",
              "      <td>834.00000</td>\n",
              "      <td>15.000000</td>\n",
              "      <td>45.434905</td>\n",
              "      <td>13.768136</td>\n",
              "      <td>601.000000</td>\n",
              "      <td>108.000000</td>\n",
              "      <td>694.000000</td>\n",
              "      <td>1237.000000</td>\n",
              "      <td>1973.000000</td>\n",
              "      <td>137.000000</td>\n",
              "      <td>214.000000</td>\n",
              "      <td>181.000000</td>\n",
              "      <td>2349.000000</td>\n",
              "      <td>17845.000000</td>\n",
              "    </tr>\n",
              "    <tr>\n",
              "      <th>max</th>\n",
              "      <td>1112.00000</td>\n",
              "      <td>20.000000</td>\n",
              "      <td>46.499335</td>\n",
              "      <td>16.867367</td>\n",
              "      <td>12077.000000</td>\n",
              "      <td>1381.000000</td>\n",
              "      <td>13328.000000</td>\n",
              "      <td>20702.000000</td>\n",
              "      <td>33090.000000</td>\n",
              "      <td>3251.000000</td>\n",
              "      <td>18396.000000</td>\n",
              "      <td>11608.000000</td>\n",
              "      <td>63094.000000</td>\n",
              "      <td>232674.000000</td>\n",
              "    </tr>\n",
              "  </tbody>\n",
              "</table>\n",
              "</div>"
            ],
            "text/plain": [
              "              SNo   RegionCode  ...  TotalPositiveCases  TestsPerformed\n",
              "count  1113.00000  1113.000000  ...         1113.000000     1113.000000\n",
              "mean    556.00000    10.190476  ...         3123.139263    17353.315364\n",
              "std     321.43973     5.797669  ...         7939.941536    33793.972235\n",
              "min       0.00000     1.000000  ...            0.000000        0.000000\n",
              "25%     278.00000     5.000000  ...           50.000000      531.000000\n",
              "50%     556.00000    10.000000  ...          647.000000     4304.000000\n",
              "75%     834.00000    15.000000  ...         2349.000000    17845.000000\n",
              "max    1112.00000    20.000000  ...        63094.000000   232674.000000\n",
              "\n",
              "[8 rows x 14 columns]"
            ]
          },
          "metadata": {
            "tags": []
          },
          "execution_count": 5
        }
      ]
    },
    {
      "cell_type": "code",
      "metadata": {
        "id": "l_xLVFhDu1op",
        "colab_type": "code",
        "outputId": "69a199cb-18d1-4389-9831-5e134bf1ac03",
        "colab": {
          "base_uri": "https://localhost:8080/",
          "height": 319
        }
      },
      "source": [
        "data.isnull().sum()"
      ],
      "execution_count": 6,
      "outputs": [
        {
          "output_type": "execute_result",
          "data": {
            "text/plain": [
              "SNo                          0\n",
              "Date                         0\n",
              "Country                      0\n",
              "RegionCode                   0\n",
              "RegionName                   0\n",
              "Latitude                     0\n",
              "Longitude                    0\n",
              "HospitalizedPatients         0\n",
              "IntensiveCarePatients        0\n",
              "TotalHospitalizedPatients    0\n",
              "HomeConfinement              0\n",
              "CurrentPositiveCases         0\n",
              "NewPositiveCases             0\n",
              "Recovered                    0\n",
              "Deaths                       0\n",
              "TotalPositiveCases           0\n",
              "TestsPerformed               0\n",
              "dtype: int64"
            ]
          },
          "metadata": {
            "tags": []
          },
          "execution_count": 6
        }
      ]
    },
    {
      "cell_type": "code",
      "metadata": {
        "id": "qiioS-hGvAj7",
        "colab_type": "code",
        "outputId": "1efc10a8-60bb-409c-df8c-ce685e194f69",
        "colab": {
          "base_uri": "https://localhost:8080/",
          "height": 118
        }
      },
      "source": [
        "data.columns"
      ],
      "execution_count": 7,
      "outputs": [
        {
          "output_type": "execute_result",
          "data": {
            "text/plain": [
              "Index(['SNo', 'Date', 'Country', 'RegionCode', 'RegionName', 'Latitude',\n",
              "       'Longitude', 'HospitalizedPatients', 'IntensiveCarePatients',\n",
              "       'TotalHospitalizedPatients', 'HomeConfinement', 'CurrentPositiveCases',\n",
              "       'NewPositiveCases', 'Recovered', 'Deaths', 'TotalPositiveCases',\n",
              "       'TestsPerformed'],\n",
              "      dtype='object')"
            ]
          },
          "metadata": {
            "tags": []
          },
          "execution_count": 7
        }
      ]
    },
    {
      "cell_type": "code",
      "metadata": {
        "id": "q00m9myEvW9x",
        "colab_type": "code",
        "outputId": "00f8f572-63a5-4cf3-9029-3fb020135f64",
        "colab": {
          "base_uri": "https://localhost:8080/",
          "height": 386
        }
      },
      "source": [
        "sns.relplot(y='TotalPositiveCases',x='Recovered',data=data)"
      ],
      "execution_count": 8,
      "outputs": [
        {
          "output_type": "execute_result",
          "data": {
            "text/plain": [
              "<seaborn.axisgrid.FacetGrid at 0x7f05318c11d0>"
            ]
          },
          "metadata": {
            "tags": []
          },
          "execution_count": 8
        },
        {
          "output_type": "display_data",
          "data": {
            "image/png": "[encoded data removed]",
            "text/plain": [
              "<Figure size 360x360 with 1 Axes>"
            ]
          },
          "metadata": {
            "tags": [],
            "needs_background": "light"
          }
        }
      ]
    },
    {
      "cell_type": "code",
      "metadata": {
        "id": "TwzKz-X3vnFY",
        "colab_type": "code",
        "outputId": "d5256350-3bac-4424-8257-0dffa7ba5b75",
        "colab": {
          "base_uri": "https://localhost:8080/",
          "height": 386
        }
      },
      "source": [
        "sns.relplot(y='TotalPositiveCases',x='Deaths',data=data)"
      ],
      "execution_count": 9,
      "outputs": [
        {
          "output_type": "execute_result",
          "data": {
            "text/plain": [
              "<seaborn.axisgrid.FacetGrid at 0x7f050714c198>"
            ]
          },
          "metadata": {
            "tags": []
          },
          "execution_count": 9
        },
        {
          "output_type": "display_data",
          "data": {
            "image/png": "[encoded data removed]",
            "text/plain": [
              "<Figure size 360x360 with 1 Axes>"
            ]
          },
          "metadata": {
            "tags": [],
            "needs_background": "light"
          }
        }
      ]
    },
    {
      "cell_type": "code",
      "metadata": {
        "id": "la0lfvuyv3c8",
        "colab_type": "code",
        "outputId": "24b5a757-4367-46a7-8f78-8c452d522d9e",
        "colab": {
          "base_uri": "https://localhost:8080/",
          "height": 34
        }
      },
      "source": [
        "sns.pairplot(data)"
      ],
      "execution_count": 0,
      "outputs": [
        {
          "output_type": "execute_result",
          "data": {
            "text/plain": [
              "<seaborn.axisgrid.PairGrid at 0x7f050714ceb8>"
            ]
          },
          "metadata": {
            "tags": []
          },
          "execution_count": 10
        }
      ]
    },
    {
      "cell_type": "code",
      "metadata": {
        "id": "p_2qg7KYwkDK",
        "colab_type": "code",
        "colab": {}
      },
      "source": [
        "from matplotlib import style\n",
        "style.use('ggplot')\n",
        "%matplotlib inline"
      ],
      "execution_count": 0,
      "outputs": []
    },
    {
      "cell_type": "code",
      "metadata": {
        "id": "OY_DgVReyCf1",
        "colab_type": "code",
        "colab": {}
      },
      "source": [
        "import plotly\n",
        "import plotly.express as px\n",
        "plt.rcParams['figure.figsize']=17,8\n",
        "import plotly.graph_objects as go\n",
        "\n",
        "import plotly.tools as tls\n"
      ],
      "execution_count": 0,
      "outputs": []
    },
    {
      "cell_type": "code",
      "metadata": {
        "id": "mlSYp8kEydvz",
        "colab_type": "code",
        "colab": {}
      },
      "source": [
        "import cufflinks as cf\n",
        "import plotly.offline as pyo\n",
        "from plotly.offline import init_notebook_mode,plot,iplot\n"
      ],
      "execution_count": 0,
      "outputs": []
    },
    {
      "cell_type": "code",
      "metadata": {
        "id": "Wuu9kYS2ytem",
        "colab_type": "code",
        "colab": {}
      },
      "source": [
        "import folium"
      ],
      "execution_count": 0,
      "outputs": []
    },
    {
      "cell_type": "code",
      "metadata": {
        "id": "BGaC2P4EzJGS",
        "colab_type": "code",
        "colab": {}
      },
      "source": [
        "pyo.init_notebook_mode(connected=True)\n",
        "cf.go_offline()"
      ],
      "execution_count": 0,
      "outputs": []
    },
    {
      "cell_type": "code",
      "metadata": {
        "id": "XZx5PXBAzf8q",
        "colab_type": "code",
        "colab": {}
      },
      "source": [
        "df1=pd.read_csv('/content/covid_19_india.csv')\n",
        "df1.head()"
      ],
      "execution_count": 0,
      "outputs": []
    },
    {
      "cell_type": "code",
      "metadata": {
        "id": "PREUXnaY0GvK",
        "colab_type": "code",
        "colab": {}
      },
      "source": [
        "df1"
      ],
      "execution_count": 0,
      "outputs": []
    },
    {
      "cell_type": "code",
      "metadata": {
        "id": "zu0mRq5Z0Kra",
        "colab_type": "code",
        "colab": {}
      },
      "source": [
        "df=pd.read_excel('/content/Covid cases in India.xlsx')"
      ],
      "execution_count": 0,
      "outputs": []
    },
    {
      "cell_type": "code",
      "metadata": {
        "id": "U5BgMJXq2OqP",
        "colab_type": "code",
        "colab": {}
      },
      "source": [
        "df"
      ],
      "execution_count": 0,
      "outputs": []
    },
    {
      "cell_type": "code",
      "metadata": {
        "id": "llRypi5j2T8r",
        "colab_type": "code",
        "colab": {}
      },
      "source": [
        "df.drop(['S. No.'],axis=1,inplace=True)"
      ],
      "execution_count": 0,
      "outputs": []
    },
    {
      "cell_type": "code",
      "metadata": {
        "id": "TOu_8oCM2rm1",
        "colab_type": "code",
        "colab": {}
      },
      "source": [
        "df.columns"
      ],
      "execution_count": 0,
      "outputs": []
    },
    {
      "cell_type": "code",
      "metadata": {
        "id": "-ggLcLBF2lOa",
        "colab_type": "code",
        "colab": {}
      },
      "source": [
        "df['Total cases']=df['Total Confirmed cases (Indian National)']+df['Total Confirmed cases ( Foreign National )']"
      ],
      "execution_count": 0,
      "outputs": []
    },
    {
      "cell_type": "code",
      "metadata": {
        "id": "doNluESC3WMT",
        "colab_type": "code",
        "colab": {}
      },
      "source": [
        "df"
      ],
      "execution_count": 0,
      "outputs": []
    },
    {
      "cell_type": "code",
      "metadata": {
        "id": "qjGBAi0D3W3k",
        "colab_type": "code",
        "colab": {}
      },
      "source": [
        "df['Total cases'].sum()"
      ],
      "execution_count": 0,
      "outputs": []
    },
    {
      "cell_type": "code",
      "metadata": {
        "id": "TFJMwoYc3jZx",
        "colab_type": "code",
        "colab": {}
      },
      "source": [
        "df['Active caes']=df['Total cases']-(df['Cured']+df['Death'])"
      ],
      "execution_count": 0,
      "outputs": []
    },
    {
      "cell_type": "code",
      "metadata": {
        "id": "-IsIr4CH4DZ8",
        "colab_type": "code",
        "colab": {}
      },
      "source": [
        "df"
      ],
      "execution_count": 0,
      "outputs": []
    },
    {
      "cell_type": "code",
      "metadata": {
        "id": "fadHwwYB4EAW",
        "colab_type": "code",
        "colab": {}
      },
      "source": [
        ""
      ],
      "execution_count": 0,
      "outputs": []
    },
    {
      "cell_type": "code",
      "metadata": {
        "id": "eLrL_UA44asE",
        "colab_type": "code",
        "colab": {}
      },
      "source": [
        "df.style.background_gradient(cmap='Reds')"
      ],
      "execution_count": 0,
      "outputs": []
    },
    {
      "cell_type": "code",
      "metadata": {
        "id": "ntyZ3f_b4iaP",
        "colab_type": "code",
        "colab": {}
      },
      "source": [
        "Total_active_cases=df.groupby('Name of State / UT')['Total cases'].sum().sort_values(ascending=False).to_frame()"
      ],
      "execution_count": 0,
      "outputs": []
    },
    {
      "cell_type": "code",
      "metadata": {
        "id": "iuLxDWAa5x_F",
        "colab_type": "code",
        "colab": {}
      },
      "source": [
        "Total_active_cases.style.background_gradient(cmap='Reds')"
      ],
      "execution_count": 0,
      "outputs": []
    },
    {
      "cell_type": "code",
      "metadata": {
        "id": "UHSG6g7L6Gkj",
        "colab_type": "code",
        "colab": {}
      },
      "source": [
        "df.plot(kind='bar',x='Name of State / UT',y='Total cases')"
      ],
      "execution_count": 0,
      "outputs": []
    },
    {
      "cell_type": "code",
      "metadata": {
        "id": "UTqdO_LW78Uj",
        "colab_type": "code",
        "colab": {}
      },
      "source": [
        "plt.bar(df['Name of State / UT'],df['Total cases'])"
      ],
      "execution_count": 0,
      "outputs": []
    },
    {
      "cell_type": "code",
      "metadata": {
        "id": "Fx083P-E_M9_",
        "colab_type": "code",
        "colab": {}
      },
      "source": [
        "df.iplot(kind='bar',x='Name of State / UT',y='Total cases')\n",
        "plt.show()"
      ],
      "execution_count": 0,
      "outputs": []
    },
    {
      "cell_type": "code",
      "metadata": {
        "id": "OlZuk2fl_kiz",
        "colab_type": "code",
        "colab": {}
      },
      "source": [
        "px.bar(df,x='Name of State / UT',y='Total cases')"
      ],
      "execution_count": 0,
      "outputs": []
    },
    {
      "cell_type": "code",
      "metadata": {
        "id": "DGyRxYPXAc7s",
        "colab_type": "code",
        "colab": {}
      },
      "source": [
        "df.plot(kind='scatter',x='Name of State / UT',y='Total cases')"
      ],
      "execution_count": 0,
      "outputs": []
    },
    {
      "cell_type": "code",
      "metadata": {
        "id": "E6i5O8u7AvfC",
        "colab_type": "code",
        "colab": {}
      },
      "source": [
        "df.iplot(kind='scatter',x='Name of State / UT',y='Total cases',mode='markers+lines')\n",
        "px.scatter(df,x='Name of State / UT',y='Total cases')"
      ],
      "execution_count": 0,
      "outputs": []
    },
    {
      "cell_type": "code",
      "metadata": {
        "id": "t18009bcA8SX",
        "colab_type": "code",
        "colab": {}
      },
      "source": [
        " fig=plt.figure(figsize=(20,10),dpi=200)\n",
        " axes=fig.add_axes([0,0,1,1])\n",
        " axes.bar(df['Name of State / UT'],df['Total cases'])\n",
        " axes.set_title(\"Total Cases in india\")\n",
        " axes.set_xlabel(\"Name of state/UT\")\n",
        " axes.set_ylabel(\"Total Cases\")\n",
        "\n",
        " fig=go.Figure()\n",
        " fig.add_trace(go.Bar(x=df['Name of State / UT'],y=df['Total cases']))"
      ],
      "execution_count": 0,
      "outputs": []
    },
    {
      "cell_type": "code",
      "metadata": {
        "id": "f0W1OEr7ecr2",
        "colab_type": "code",
        "colab": {}
      },
      "source": [
        "Indian_cord=pd.read_excel('/content/Indian Coordinates.xlsx')\n",
        "Indian_cord"
      ],
      "execution_count": 0,
      "outputs": []
    },
    {
      "cell_type": "code",
      "metadata": {
        "id": "yF_gptxWismo",
        "colab_type": "code",
        "colab": {}
      },
      "source": [
        "df_full=pd.merge(Indian_cord,df,on='Name of State / UT')"
      ],
      "execution_count": 0,
      "outputs": []
    },
    {
      "cell_type": "code",
      "metadata": {
        "id": "ULoFF1rUjJzi",
        "colab_type": "code",
        "colab": {}
      },
      "source": [
        "df_full"
      ],
      "execution_count": 0,
      "outputs": []
    },
    {
      "cell_type": "code",
      "metadata": {
        "id": "JaZdAof9h_th",
        "colab_type": "code",
        "colab": {}
      },
      "source": [
        "map=folium.Map(location=[20,70],zoom_start=4,tiles='Stamenterrain')"
      ],
      "execution_count": 0,
      "outputs": []
    },
    {
      "cell_type": "code",
      "metadata": {
        "id": "dGP3OXA2iZSl",
        "colab_type": "code",
        "colab": {}
      },
      "source": [
        "for lat,long,value,name in zip(df_full['Latitude'],df_full['Longitude'],df_full['Total cases'],df_full['Name of State / UT']):\n",
        "    folium.CircleMarker([lat,long],radius=value*0.01,popup=('<strong>State</strong>: '+str(name).capitalize()+'<br>''<strong>Total cases</strong>: '+str(value)+ '<br>'),color='red',fill_color='red',fill_opacity=0.03).add_to(map)"
      ],
      "execution_count": 0,
      "outputs": []
    },
    {
      "cell_type": "code",
      "metadata": {
        "id": "aVh_SvwulvRJ",
        "colab_type": "code",
        "colab": {}
      },
      "source": [
        ""
      ],
      "execution_count": 0,
      "outputs": []
    },
    {
      "cell_type": "code",
      "metadata": {
        "id": "-iqdTj9Nkxy8",
        "colab_type": "code",
        "colab": {}
      },
      "source": [
        "map"
      ],
      "execution_count": 0,
      "outputs": []
    },
    {
      "cell_type": "code",
      "metadata": {
        "id": "ZXTqxqL7lI0J",
        "colab_type": "code",
        "colab": {}
      },
      "source": [
        "dbd_india=pd.read_csv('/content/covid_19_india (1).csv')\n",
        "dbd_india"
      ],
      "execution_count": 0,
      "outputs": []
    },
    {
      "cell_type": "code",
      "metadata": {
        "id": "UJvRz0zEnyVq",
        "colab_type": "code",
        "colab": {}
      },
      "source": [
        "dbd_italy=pd.read_excel('/content/per_day_cases.xlsx',parse_dates=True,sheet_name='Italy')\n",
        "dbd_italy\n",
        "\n",
        "\n"
      ],
      "execution_count": 0,
      "outputs": []
    },
    {
      "cell_type": "code",
      "metadata": {
        "id": "aLmB9V6M74WU",
        "colab_type": "code",
        "colab": {}
      },
      "source": [
        "dbd_korea=pd.read_excel('/content/per_day_cases.xlsx',parse_dates=True,sheet_name='Korea')\n",
        "dbd_korea"
      ],
      "execution_count": 0,
      "outputs": []
    },
    {
      "cell_type": "code",
      "metadata": {
        "id": "tc5zB5gI77F-",
        "colab_type": "code",
        "colab": {}
      },
      "source": [
        "dbd_wuhan=pd.read_excel('/content/per_day_cases.xlsx',parse_dates=True,sheet_name='Wuhan')\n",
        "dbd_wuhan"
      ],
      "execution_count": 0,
      "outputs": []
    },
    {
      "cell_type": "code",
      "metadata": {
        "id": "9_t7IH4coKvC",
        "colab_type": "code",
        "colab": {}
      },
      "source": [
        "f, ax = plt.subplots(figsize=(12,8))\n",
        "data = df_full[['Name of State / UT','Total cases','Cured','Death']]\n",
        "data.sort_values('Total cases',ascending=False,inplace=True)\n",
        "sns.set_color_codes(\"pastel\")\n",
        "sns.barplot(x=\"Total cases\", y=\"Name of State / UT\", data=data,label=\"Total\", color=\"red\")\n",
        "sns.set_color_codes(\"muted\")\n",
        "sns.barplot(x=\"Cured\", y=\"Name of State / UT\", data=data, label=\"Cured\", color=\"green\")\n",
        "ax.legend(ncol=2, loc=\"lower right\", frameon=True)\n",
        "ax.set(xlim=(0, 3500), ylabel=\"States\",xlabel=\"Cases\")\n",
        "sns.despine(left=True, bottom=True)"
      ],
      "execution_count": 0,
      "outputs": []
    },
    {
      "cell_type": "code",
      "metadata": {
        "id": "S1cdJnQJ-kD9",
        "colab_type": "code",
        "colab": {}
      },
      "source": [
        " df_full.columns"
      ],
      "execution_count": 0,
      "outputs": []
    },
    {
      "cell_type": "code",
      "metadata": {
        "id": "GvlwMRGA-xq4",
        "colab_type": "code",
        "colab": {}
      },
      "source": [
        "data.head()"
      ],
      "execution_count": 0,
      "outputs": []
    },
    {
      "cell_type": "code",
      "metadata": {
        "id": "Xojl9ZDn_M_n",
        "colab_type": "code",
        "colab": {}
      },
      "source": [
        "import plotly\n",
        "plotly.io.renderers.default = 'colab'\n",
        "fig = go.Figure()\n",
        "fig.add_trace(go.Scatter(x=dbd_india['Date'], y = dbd_india['Confirmed'], mode='lines+markers',name='Total Cases'))\n",
        "fig.update_layout(title_text='Trend of Coronavirus Cases in India (Cumulative cases)',plot_bgcolor='rgb(230, 230, 230)')\n",
        "fig.show()\n",
        "# New COVID-19 cases reported daily in India\n",
        "import plotly.express as px\n",
        "fig = px.bar(dbd_india, x=\"Date\", y=\"Confirmed\", barmode='group', height=400)\n",
        "fig.update_layout(title_text='Coronavirus Cases in India on daily basis',plot_bgcolor='rgb(230, 230, 230)')\n",
        "fig.show()"
      ],
      "execution_count": 0,
      "outputs": []
    },
    {
      "cell_type": "code",
      "metadata": {
        "id": "3mofrCIfE_0c",
        "colab_type": "code",
        "colab": {}
      },
      "source": [
        " fig = px.bar(dbd_india, x=\"Date\", y=\"Confirmed\", color='Confirmed', orientation='v', height=600,\n",
        "             title='Confirmed Cases in India', color_discrete_sequence = px.colors.cyclical.IceFire)\n",
        "\n",
        "'''Colour Scale for plotly\n",
        "https://plot.ly/python/builtin-colorscales/\n",
        "'''\n",
        "\n",
        "fig.update_layout(plot_bgcolor='rgb(230, 230, 230)')\n",
        "fig.show()\n",
        "\n",
        "fig = px.bar(dbd_italy, x=\"Date\", y=\"Total Cases\", color='Total Cases', orientation='v', height=600,\n",
        "             title='Confirmed Cases in Italy', color_discrete_sequence = px.colors.cyclical.IceFire)\n",
        "\n",
        "fig.update_layout(plot_bgcolor='rgb(230, 230, 230)')\n",
        "fig.show()\n",
        "\n",
        "fig = px.bar(dbd_korea, x=\"Date\", y=\"Total Cases\", color='Total Cases', orientation='v', height=600,\n",
        "             title='Confirmed Cases in South Korea', color_discrete_sequence = px.colors.cyclical.IceFire)\n",
        "\n",
        "fig.update_layout(plot_bgcolor='rgb(230, 230, 230)')\n",
        "fig.show()\n",
        "fig = px.bar(dbd_wuhan, x=\"Date\", y=\"Total Cases\", color='Total Cases', orientation='v', height=600,\n",
        "             title='Confirmed Cases in Wuhan', color_discrete_sequence = px.colors.cyclical.IceFire)\n",
        "\n",
        "fig.update_layout(plot_bgcolor='rgb(230, 230, 230)')\n",
        "fig.show()"
      ],
      "execution_count": 0,
      "outputs": []
    },
    {
      "cell_type": "code",
      "metadata": {
        "id": "DiICsfdEMXsj",
        "colab_type": "code",
        "colab": {}
      },
      "source": [
        "from plotly.subplots import make_subplots\n",
        "\n",
        "fig = make_subplots(\n",
        "    rows=2, cols=2,\n",
        "    specs=[[{}, {}],\n",
        "           [{\"colspan\": 2}, None]],\n",
        "    subplot_titles=(\"S.Korea\",\"Italy\", \"India\",\"Wuhan\"))\n",
        "\n",
        "fig.add_trace(go.Bar(x=dbd_korea['Date'], y=dbd_korea['Total Cases'],\n",
        "                    marker=dict(color=dbd_korea['Total Cases'], coloraxis=\"coloraxis\")),1, 1)\n",
        "\n",
        "fig.add_trace(go.Bar(x=dbd_italy['Date'], y=dbd_italy['Total Cases'],\n",
        "                    marker=dict(color=dbd_italy['Total Cases'], coloraxis=\"coloraxis\")),1, 2)\n",
        "\n",
        "fig.add_trace(go.Bar(x=dbd_india['Date'], y=dbd_india['Confirmed'],\n",
        "                    marker=dict(color=dbd_india['Confirmed'], coloraxis=\"coloraxis\")),2, 1)\n",
        "\n",
        "fig.update_layout(coloraxis=dict(colorscale='Bluered_r'), showlegend=False,title_text=\"Total Confirmed cases(Cumulative)\")\n",
        "\n",
        "fig.update_layout(plot_bgcolor='rgb(230, 230, 230)')\n",
        "fig.show()"
      ],
      "execution_count": 0,
      "outputs": []
    },
    {
      "cell_type": "code",
      "metadata": {
        "id": "_z_OXma-NKWq",
        "colab_type": "code",
        "colab": {}
      },
      "source": [
        "from plotly.subplots import make_subplots\n",
        "fig = make_subplots(rows=2, cols=2, specs=[[{}, {}], [{\"colspan\": 2}, None]], subplot_titles=(\"S.Korea\",\"Italy\", \"India\"))\n",
        "fig.add_trace(go.Scatter(x=dbd_korea['Date'], y=dbd_korea['Total Cases'], marker=dict(color=dbd_korea['Total Cases'], coloraxis=\"coloraxis\")), 1, 1)\n",
        "fig.add_trace(go.Scatter(x=dbd_italy['Date'], y=dbd_italy['Total Cases'], marker=dict(color=dbd_italy['Total Cases'], coloraxis=\"coloraxis\")), 1, 2)\n",
        "fig.add_trace(go.Scatter(x=dbd_india['Date'], y=dbd_india['Confirmed'], marker=dict(color=dbd_india['Confirmed'], coloraxis=\"coloraxis\")), 2, 1)\n",
        "fig.update_layout(coloraxis=dict(colorscale='Bluered_r'), showlegend=False,title_text=\"Trend of Coronavirus cases\")\n",
        "fig.update_layout(plot_bgcolor='rgb(250, 242, 242)')\n",
        "fig.show()"
      ],
      "execution_count": 0,
      "outputs": []
    },
    {
      "cell_type": "code",
      "metadata": {
        "id": "EgqEUUq3Nc7R",
        "colab_type": "code",
        "colab": {}
      },
      "source": [
        "df = pd.read_csv('covid_19_data.csv',parse_dates=['Last Update'])\n",
        "\n",
        "df.rename(columns={'ObservationDate':'Date', 'Country/Region':'Country'}, inplace=True)\n",
        "df_confirmed = pd.read_csv(\"/content/time_series_covid_19_confirmed.csv\")\n",
        "df_recovered = pd.read_csv(\"/content/time_series_covid_19_recovered.csv\")\n",
        "df_deaths = pd.read_csv(\"/content/time_series_covid_19_deaths.csv\")\n",
        "df_confirmed.rename(columns={'Country/Region':'Country'}, inplace=True)\n",
        "df_recovered.rename(columns={'Country/Region':'Country'}, inplace=True)\n",
        "df_deaths.rename(columns={'Country/Region':'Country'}, inplace=True)"
      ],
      "execution_count": 0,
      "outputs": []
    },
    {
      "cell_type": "code",
      "metadata": {
        "id": "8CRUk2psQnFT",
        "colab_type": "code",
        "colab": {}
      },
      "source": [
        "df_deaths.head()"
      ],
      "execution_count": 0,
      "outputs": []
    },
    {
      "cell_type": "code",
      "metadata": {
        "id": "GVTu0GXDQyx5",
        "colab_type": "code",
        "colab": {}
      },
      "source": [
        "df.head()"
      ],
      "execution_count": 0,
      "outputs": []
    },
    {
      "cell_type": "code",
      "metadata": {
        "id": "ieUyNgUzQ1yg",
        "colab_type": "code",
        "colab": {}
      },
      "source": [
        "df2 = df.groupby([\"Date\", \"Country\", \"Province/State\"])[['SNo', 'Date', 'Province/State', 'Country', 'Confirmed', 'Deaths', 'Recovered']].sum().reset_index()\n",
        "df2.head()\n"
      ],
      "execution_count": 0,
      "outputs": []
    },
    {
      "cell_type": "code",
      "metadata": {
        "id": "emUnk1LYQ4-M",
        "colab_type": "code",
        "colab": {}
      },
      "source": [
        "df.query('Country==\"India\"').groupby(\"Last Update\")[['Confirmed', 'Deaths', 'Recovered']].sum().reset_index()"
      ],
      "execution_count": 0,
      "outputs": []
    },
    {
      "cell_type": "code",
      "metadata": {
        "id": "C2vubQuWRQhm",
        "colab_type": "code",
        "colab": {}
      },
      "source": [
        "\n",
        "df.groupby('Date').sum().head()"
      ],
      "execution_count": 0,
      "outputs": []
    },
    {
      "cell_type": "code",
      "metadata": {
        "id": "SSbYxyOYRWDH",
        "colab_type": "code",
        "colab": {}
      },
      "source": [
        "confirmed = df.groupby('Date').sum()['Confirmed'].reset_index()\n",
        "deaths = df.groupby('Date').sum()['Deaths'].reset_index()\n",
        "recovered = df.groupby('Date').sum()['Recovered'].reset_index()\n",
        "fig = go.Figure()\n",
        "fig.add_trace(go.Scatter(x=confirmed['Date'], y=confirmed['Confirmed'], mode='lines+markers', name='Confirmed',line=dict(color='blue', width=2)))\n",
        "fig.add_trace(go.Scatter(x=deaths['Date'], y=deaths['Deaths'], mode='lines+markers', name='Deaths', line=dict(color='Red', width=2)))\n",
        "fig.add_trace(go.Scatter(x=recovered['Date'], y=recovered['Recovered'], mode='lines+markers', name='Recovered', line=dict(color='Green', width=2)))\n",
        "fig.update_layout(title='Worldwide NCOVID-19 Cases', xaxis_tickfont_size=14,yaxis=dict(title='Number of Cases'))\n",
        "fig.show()"
      ],
      "execution_count": 0,
      "outputs": []
    },
    {
      "cell_type": "code",
      "metadata": {
        "id": "2sjZ243WRcN0",
        "colab_type": "code",
        "colab": {}
      },
      "source": [
        "df_confirmed = df_confirmed[[\"Province/State\",\"Lat\",\"Long\",\"Country\"]]\n",
        "df_temp = df.copy()\n",
        "df_temp['Country'].replace({'Mainland China': 'China'}, inplace=True)\n",
        "df_latlong = pd.merge(df_temp, df_confirmed, on=[\"Country\", \"Province/State\"])"
      ],
      "execution_count": 0,
      "outputs": []
    },
    {
      "cell_type": "code",
      "metadata": {
        "id": "O24NQm9RRjyO",
        "colab_type": "code",
        "colab": {}
      },
      "source": [
        "fig = px.density_mapbox(df_latlong, lat=\"Lat\", lon=\"Long\", hover_name=\"Province/State\", hover_data=[\"Confirmed\",\"Deaths\",\"Recovered\"], animation_frame=\"Date\", color_continuous_scale=\"Portland\", radius=7, zoom=0,height=700)\n",
        "fig.update_layout(title='Worldwide Corona Virus Cases Time Lapse - Confirmed, Deaths, Recovered')\n",
        "fig.update_layout(mapbox_style=\"open-street-map\", mapbox_center_lon=0)\n",
        "fig.update_layout(margin={\"r\":0,\"t\":0,\"l\":0,\"b\":0})\n",
        "fig.show()"
      ],
      "execution_count": 0,
      "outputs": []
    },
    {
      "cell_type": "code",
      "metadata": {
        "id": "RCh8MdU1wXlK",
        "colab_type": "code",
        "colab": {}
      },
      "source": [
        ""
      ],
      "execution_count": 0,
      "outputs": []
    },
    {
      "cell_type": "code",
      "metadata": {
        "id": "7Nbxj18VRmhT",
        "colab_type": "code",
        "colab": {}
      },
      "source": [
        "from fbprophet import Prophet"
      ],
      "execution_count": 0,
      "outputs": []
    },
    {
      "cell_type": "code",
      "metadata": {
        "id": "ts13RaXcR5qH",
        "colab_type": "code",
        "colab": {}
      },
      "source": [
        "confirmed = df.groupby('Date').sum()['Confirmed'].reset_index()\n",
        "deaths = df.groupby('Date').sum()['Deaths'].reset_index()\n",
        "recovered = df.groupby('Date').sum()['Recovered'].reset_index()"
      ],
      "execution_count": 0,
      "outputs": []
    },
    {
      "cell_type": "code",
      "metadata": {
        "id": "oVLEMKLbR-SL",
        "colab_type": "code",
        "colab": {}
      },
      "source": [
        "confirmed.columns = ['ds','y']\n",
        "confirmed['ds'] = pd.to_datetime(confirmed['ds'])"
      ],
      "execution_count": 0,
      "outputs": []
    },
    {
      "cell_type": "code",
      "metadata": {
        "id": "u2ocK67qR-wS",
        "colab_type": "code",
        "colab": {}
      },
      "source": [
        "m = Prophet(interval_width=0.95)\n",
        "m.fit(confirmed)\n",
        "future = m.make_future_dataframe(periods=7)\n",
        "future.tail()"
      ],
      "execution_count": 0,
      "outputs": []
    },
    {
      "cell_type": "code",
      "metadata": {
        "id": "hI34yp5TSBUk",
        "colab_type": "code",
        "colab": {}
      },
      "source": [
        "forecast = m.predict(future)\n",
        "forecast[['ds', 'yhat', 'yhat_lower', 'yhat_upper']].tail()"
      ],
      "execution_count": 0,
      "outputs": []
    },
    {
      "cell_type": "code",
      "metadata": {
        "id": "8L7t47uzSF7g",
        "colab_type": "code",
        "colab": {}
      },
      "source": [
        "confirmed_forecast_plot = m.plot(forecast)"
      ],
      "execution_count": 0,
      "outputs": []
    },
    {
      "cell_type": "code",
      "metadata": {
        "id": "yJzv4GTTSJXe",
        "colab_type": "code",
        "colab": {}
      },
      "source": [
        "confirmed_forecast_plot =m.plot_components(forecast)"
      ],
      "execution_count": 0,
      "outputs": []
    },
    {
      "cell_type": "code",
      "metadata": {
        "id": "Fn2I3ctOSL9h",
        "colab_type": "code",
        "colab": {}
      },
      "source": [
        "deaths.columns = ['ds','y']\n",
        "deaths['ds'] = pd.to_datetime(deaths['ds'])"
      ],
      "execution_count": 0,
      "outputs": []
    },
    {
      "cell_type": "code",
      "metadata": {
        "id": "qdKlxKPRSPh6",
        "colab_type": "code",
        "colab": {}
      },
      "source": [
        "m = Prophet(interval_width=0.95)\n",
        "m.fit(deaths)\n",
        "future = m.make_future_dataframe(periods=7)\n",
        "future.tail()"
      ],
      "execution_count": 0,
      "outputs": []
    },
    {
      "cell_type": "code",
      "metadata": {
        "id": "yGdAwtsGSSKD",
        "colab_type": "code",
        "colab": {}
      },
      "source": [
        "forecast = m.predict(future)\n",
        "forecast[['ds', 'yhat', 'yhat_lower', 'yhat_upper']].tail()"
      ],
      "execution_count": 0,
      "outputs": []
    },
    {
      "cell_type": "code",
      "metadata": {
        "id": "8VGW59qKSVmE",
        "colab_type": "code",
        "colab": {}
      },
      "source": [
        "deaths_forecast_plot = m.plot(forecast)"
      ],
      "execution_count": 0,
      "outputs": []
    },
    {
      "cell_type": "code",
      "metadata": {
        "id": "8SLSqgEBSY2s",
        "colab_type": "code",
        "colab": {}
      },
      "source": [
        "deaths_forecast_plot = m.plot_components(forecast)"
      ],
      "execution_count": 0,
      "outputs": []
    },
    {
      "cell_type": "code",
      "metadata": {
        "id": "MttjhELRSbRd",
        "colab_type": "code",
        "colab": {}
      },
      "source": [
        ""
      ],
      "execution_count": 0,
      "outputs": []
    }
  ]
}